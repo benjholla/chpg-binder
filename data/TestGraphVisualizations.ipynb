{
  "cells": [
    {
      "cell_type": "code",
      "source": [
        "%jars chpg.jar\n",
        "%jars chpg-visualizations.jar\n",
        "%jars chpg-io.jar\n",
        "%jars protobuf-java-3.8.0.jar\n",
        "\n",
        "import chpg.graph.*;\n",
        "import chpg.graph.schema.*;\n",
        "import chpg.visualizations.GraphView;\n",
        "\n",
        "import java.util.List;\n",
        "import java.util.ArrayList;\n",
        "import java.util.Random;\n",
        "import java.io.File;\n",
        "\n",
        "import chpg.io.*;"
      ],
      "outputs": [],
      "execution_count": 1,
      "metadata": {
        "inputHidden": false,
        "outputHidden": false
      }
    },
    {
      "cell_type": "code",
      "source": [
        "Graph graph = new PropertyGraph();\n",
        "\n",
        "List<Node> nodes = new ArrayList<Node>();\n",
        "for(int i=0; i<30; i++){\n",
        "  Node n = new Node();\n",
        "  graph.add(n);\n",
        "  nodes.add(n);\n",
        "}\n",
        "\n",
        "Random rnd = new Random();\n",
        "for(int i=0; i<35; i++){\n",
        "  Edge e = new Edge(nodes.get(rnd.nextInt(30)), nodes.get(rnd.nextInt(30)));\n",
        "  graph.add(e);\n",
        "}\n",
        "\n",
        "File serializedGraph = new File(\"test.chpg\");\n",
        "GraphExport.exportGraph(graph, serializedGraph);\n",
        "Graph graph2 = GraphImport.importGraph(serializedGraph);\n",
        "serializedGraph.delete();\n",
        "\n",
        "GraphView.show(graph2);"
      ],
      "outputs": [
        {
          "output_type": "display_data",
          "data": {
            "text/plain": [
              "<html><iframe src='/var/folders/p3/kkl7xkvj3vqddl60474ym2sc0000gn/T/graph-viewer700813388152717076/index.html' width=\"100%\", height=\"600px\" frameBorder=\"0\"></iframe></html>"
            ],
            "text/html": [
              "<html><iframe src='/var/folders/p3/kkl7xkvj3vqddl60474ym2sc0000gn/T/graph-viewer700813388152717076/index.html' width=\"100%\", height=\"600px\" frameBorder=\"0\"></iframe></html>"
            ]
          },
          "metadata": {}
        }
      ],
      "execution_count": 2,
      "metadata": {
        "inputHidden": false,
        "outputHidden": false
      }
    }
  ],
  "metadata": {
    "kernel_info": {
      "name": "java"
    },
    "kernelspec": {
      "name": "java",
      "language": "java",
      "display_name": "Java"
    },
    "language_info": {
      "name": "Java",
      "version": "12.0.1+12",
      "mimetype": "text/x-java-source",
      "file_extension": ".jshell",
      "pygments_lexer": "java",
      "codemirror_mode": "java"
    },
    "nteract": {
      "version": "0.14.3"
    }
  },
  "nbformat": 4,
  "nbformat_minor": 1
}